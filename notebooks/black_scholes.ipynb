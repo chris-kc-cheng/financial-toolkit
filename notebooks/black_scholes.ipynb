{
 "cells": [
  {
   "cell_type": "code",
   "execution_count": null,
   "metadata": {},
   "outputs": [],
   "source": [
    "import ipywidgets as widgets\n",
    "import toolkit as ftk\n",
    "\n",
    "@widgets.interact(\n",
    "        purchase=(60, 140),\n",
    "        current=(60, 140),\n",
    "        rate=(0.00, 0.1, 0.005),\n",
    "        time=(0.005, 3, 0.01),\n",
    "        vol=(0.005, 0.5),\n",
    "        dvd=(0, 0.2))\n",
    "def greeks(purchase, current, rate, time, vol, dvd):"
   ]
  },
  {
   "cell_type": "markdown",
   "metadata": {},
   "source": [
    "# Black Scholes "
   ]
  }
 ],
 "metadata": {
  "kernelspec": {
   "display_name": "Python 3",
   "language": "python",
   "name": "python3"
  },
  "language_info": {
   "codemirror_mode": {
    "name": "ipython",
    "version": 3
   },
   "file_extension": ".py",
   "mimetype": "text/x-python",
   "name": "python",
   "nbconvert_exporter": "python",
   "pygments_lexer": "ipython3",
   "version": "3.10.8"
  }
 },
 "nbformat": 4,
 "nbformat_minor": 2
}
