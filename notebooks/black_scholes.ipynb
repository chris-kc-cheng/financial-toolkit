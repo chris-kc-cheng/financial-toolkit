{
 "cells": [
  {
   "cell_type": "markdown",
   "metadata": {},
   "source": [
    "# Black Scholes Merton"
   ]
  },
  {
   "cell_type": "code",
   "execution_count": 2,
   "metadata": {},
   "outputs": [
    {
     "data": {
      "application/vnd.jupyter.widget-view+json": {
       "model_id": "48f32728f56548cd9dee9e9e212af775",
       "version_major": 2,
       "version_minor": 0
      },
      "text/plain": [
       "interactive(children=(FloatSlider(value=50.0, description='Strike price', min=1.0), FloatSlider(value=50.0, de…"
      ]
     },
     "metadata": {},
     "output_type": "display_data"
    }
   ],
   "source": [
    "# Workaround\n",
    "import sys\n",
    "if '..' not in sys.path:\n",
    "    sys.path.append('..')\n",
    "import numpy as np\n",
    "import pandas as pd\n",
    "import ipywidgets as widgets\n",
    "import toolkit as ftk\n",
    "\n",
    "strike_slider = widgets.FloatSlider(value=  50, min=   1, max=100, step= 0.1, description='Strike price')\n",
    "spot_slider   = widgets.FloatSlider(value=  50, min=   0, max=100, step= 0.1, description='Spot price')\n",
    "rate_slider   = widgets.FloatSlider(value=0.05, min=   0, max=0.2, step=0.01, description='Risk-free rate')\n",
    "time_slider   = widgets.FloatSlider(value=   1, min=0.01, max=  1, step=0.01, description='Time to maturity')\n",
    "vol_slider    = widgets.FloatSlider(value= 0.2, min=0.01, max=  1, step=0.01, description='Volatility')\n",
    "dvd_slider    = widgets.FloatSlider(value=   0, min=   0, max=0.2, step=0.01, description='Dividend yield')\n",
    "\n",
    "@widgets.interact(\n",
    "    strike=strike_slider,\n",
    "    spot=spot_slider,\n",
    "    rate=rate_slider,\n",
    "    time=time_slider,\n",
    "    vol=vol_slider,\n",
    "    dvd=dvd_slider)\n",
    "def greeks(strike, spot, rate, time, vol, dvd):\n",
    "    c = ftk.EuropeanCall(None, strike=strike)\n",
    "    p = ftk.EuropeanPut(None, strike=strike)\n",
    "    return pd.DataFrame({\n",
    "        'Call': c.greeks(spot, rate, time, vol, dvd),\n",
    "        'Put' : p.greeks(spot, rate, time, vol, dvd)\n",
    "        })"
   ]
  },
  {
   "cell_type": "code",
   "execution_count": 6,
   "metadata": {},
   "outputs": [
    {
     "data": {
      "application/vnd.jupyter.widget-view+json": {
       "model_id": "678bf3334dd0419fae411b815b6a94a7",
       "version_major": 2,
       "version_minor": 0
      },
      "text/plain": [
       "interactive(children=(FloatSlider(value=50.0, description='Strike price', min=1.0), FloatSlider(value=0.05, de…"
      ]
     },
     "metadata": {},
     "output_type": "display_data"
    }
   ],
   "source": [
    "import matplotlib.pyplot as plt\n",
    "\n",
    "spot = np.linspace(0, 100, 101)\n",
    "\n",
    "@widgets.interact(\n",
    "    strike=strike_slider,\n",
    "    rate=rate_slider,\n",
    "    time=time_slider,\n",
    "    vol=vol_slider,\n",
    "    dvd=dvd_slider)\n",
    "def charts(strike, rate, time, vol, dvd):\n",
    "    c = ftk.EuropeanCall(None, strike=strike)\n",
    "    p = ftk.EuropeanPut(None, strike=strike)\n",
    "    fig, ax = plt.subplots()\n",
    "    ax.plot(spot, c.price(spot, rate, time, vol, dvd))\n",
    "    ax.plot(spot, p.price(spot, rate, time, vol, dvd))\n",
    "    plt.show()"
   ]
  }
 ],
 "metadata": {
  "kernelspec": {
   "display_name": "Python 3",
   "language": "python",
   "name": "python3"
  },
  "language_info": {
   "codemirror_mode": {
    "name": "ipython",
    "version": 3
   },
   "file_extension": ".py",
   "mimetype": "text/x-python",
   "name": "python",
   "nbconvert_exporter": "python",
   "pygments_lexer": "ipython3",
   "version": "3.10.8"
  }
 },
 "nbformat": 4,
 "nbformat_minor": 2
}
