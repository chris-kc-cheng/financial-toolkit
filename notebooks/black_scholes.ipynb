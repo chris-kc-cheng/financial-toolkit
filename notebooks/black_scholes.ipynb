{
 "cells": [
  {
   "cell_type": "markdown",
   "metadata": {},
   "source": [
    "# Black Scholes Merton"
   ]
  },
  {
   "cell_type": "code",
   "execution_count": 8,
   "metadata": {},
   "outputs": [
    {
     "data": {
      "application/vnd.jupyter.widget-view+json": {
       "model_id": "90663022f226479cba4bd2bcaa2009d5",
       "version_major": 2,
       "version_minor": 0
      },
      "text/plain": [
       "interactive(children=(FloatSlider(value=50.0, description='strike'), FloatSlider(value=50.0, description='spot…"
      ]
     },
     "metadata": {},
     "output_type": "display_data"
    }
   ],
   "source": [
    "# Workaround\n",
    "import sys\n",
    "if '..' not in sys.path:\n",
    "    sys.path.append('..')\n",
    "import pandas as pd\n",
    "import ipywidgets as widgets\n",
    "import toolkit as ftk\n",
    "\n",
    "@widgets.interact(\n",
    "        strike=(0, 100, 0.1),\n",
    "        spot=(0, 100, 0.1),\n",
    "        rate=(0.05, 0.2, 0.005),\n",
    "        time=(0.01, 3, 0.01),\n",
    "        vol=(0.005, 0.5),\n",
    "        dvd=(0, 0.2))\n",
    "def greeks(strike, spot, rate, time, vol, dvd):\n",
    "    c = ftk.EuropeanCall(strike)\n",
    "    p = ftk.EuropeanPut(strike)\n",
    "    return pd.DataFrame({\n",
    "        'Call': c.greeks(spot, rate, time, vol, dvd),\n",
    "        'Put' : p.greeks(spot, rate, time, vol, dvd)\n",
    "        })"
   ]
  },
  {
   "cell_type": "code",
   "execution_count": 13,
   "metadata": {},
   "outputs": [
    {
     "data": {
      "text/plain": [
       "(0.018762017345846895,)"
      ]
     },
     "execution_count": 13,
     "metadata": {},
     "output_type": "execute_result"
    }
   ],
   "source": [
    "ftk.delta_call(100, 100, 0.05, 1, 0.2, 0),\n",
    "ftk.gamma(100, 100, 0.05, 1, 0.2, 0),\n"
   ]
  }
 ],
 "metadata": {
  "kernelspec": {
   "display_name": "Python 3",
   "language": "python",
   "name": "python3"
  },
  "language_info": {
   "codemirror_mode": {
    "name": "ipython",
    "version": 3
   },
   "file_extension": ".py",
   "mimetype": "text/x-python",
   "name": "python",
   "nbconvert_exporter": "python",
   "pygments_lexer": "ipython3",
   "version": "3.10.8"
  }
 },
 "nbformat": 4,
 "nbformat_minor": 2
}
