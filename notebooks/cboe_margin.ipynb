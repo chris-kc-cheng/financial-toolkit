{
 "cells": [
  {
   "cell_type": "markdown",
   "metadata": {},
   "source": [
    "# CBOE Margin Requirement\n",
    "\n",
    " - https://www.cboe.com/education/tools/margin-calculator/\n",
    " - https://cdn.cboe.com/resources/membership/Margin_Manual.pdf"
   ]
  },
  {
   "cell_type": "code",
   "execution_count": 1,
   "metadata": {},
   "outputs": [
    {
     "name": "stdout",
     "output_type": "stream",
     "text": [
      "c:\\Users\\Admin\\OneDrive\\Python\n"
     ]
    },
    {
     "ename": "SyntaxError",
     "evalue": "':' expected after dictionary key (functional.py, line 277)",
     "output_type": "error",
     "traceback": [
      "Traceback \u001b[1;36m(most recent call last)\u001b[0m:\n",
      "\u001b[0m  File \u001b[0;32mc:\\Users\\Admin\\OneDrive\\Python\\financial-toolkit\\.venv\\Lib\\site-packages\\IPython\\core\\interactiveshell.py:3526\u001b[0m in \u001b[0;35mrun_code\u001b[0m\n    exec(code_obj, self.user_global_ns, self.user_ns)\u001b[0m\n",
      "\u001b[0m  Cell \u001b[0;32mIn[1], line 5\u001b[0m\n    import toolkit as ftk\u001b[0m\n",
      "\u001b[1;36m  File \u001b[1;32mc:\\Users\\Admin\\OneDrive\\Python\\financial-toolkit\\toolkit\\__init__.py:4\u001b[1;36m\n\u001b[1;33m    from .functional import *\u001b[1;36m\n",
      "\u001b[1;36m  File \u001b[1;32mc:\\Users\\Admin\\OneDrive\\Python\\financial-toolkit\\toolkit\\functional.py:277\u001b[1;36m\u001b[0m\n\u001b[1;33m    ftk.arithmetic_mean(self.unit_price)\u001b[0m\n\u001b[1;37m                                       ^\u001b[0m\n\u001b[1;31mSyntaxError\u001b[0m\u001b[1;31m:\u001b[0m ':' expected after dictionary key\n"
     ]
    }
   ],
   "source": [
    "%cd ..\n",
    "import numpy as np\n",
    "import pandas as pd\n",
    "import matplotlib.pyplot as plt\n",
    "import toolkit as ftk\n",
    "\n",
    "underlying = np.linspace(30, 50, 101)\n",
    "portfolio = pd.DataFrame([\n",
    "    {'otype': 'c', 'quantity': 1, 'strike': 35, 'expiration': 1, 'multiplier': 100, 'reduced': 1,\n",
    "     'value': 100 * ftk.black_scholes.price_call(35, underlying, 0.05, 0.1, 0.5, 0)},\n",
    "    {'otype': 'p', 'quantity': 1, 'strike': 45, 'expiration': 1, 'multiplier': 100, 'reduced': 1,\n",
    "     'value': 100 * ftk.black_scholes.price_put(45, underlying, 0.05, 0.1, 0.5, 0)},\n",
    "    {'otype': 'u', 'quantity': 100,\n",
    "     'value': 100 * underlying}\n",
    "])\n",
    "\n",
    "# plt.plot\n",
    "portfolio.apply(lambda x: print(ftk.cboe_margin.margin(ftk.cboe_margin.margin(**x.to_dict(), underlying=underlying))), axis=1)\n",
    "plt.plot(underlying, ftk.cboe_margin.margin_strategy(\n",
    "    portfolio, underlying), label='Portfolio')\n",
    "plt.xlabel(\"Spot price of the underlying\")\n",
    "plt.ylabel(\"Maintinance margin\")\n",
    "plt.legend()\n",
    "plt.show()\n"
   ]
  }
 ],
 "metadata": {
  "kernelspec": {
   "display_name": "Python 3",
   "language": "python",
   "name": "python3"
  },
  "language_info": {
   "codemirror_mode": {
    "name": "ipython",
    "version": 3
   },
   "file_extension": ".py",
   "mimetype": "text/x-python",
   "name": "python",
   "nbconvert_exporter": "python",
   "pygments_lexer": "ipython3",
   "version": "3.11.3"
  }
 },
 "nbformat": 4,
 "nbformat_minor": 2
}
