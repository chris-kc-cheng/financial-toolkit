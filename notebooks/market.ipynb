{
 "cells": [
  {
   "cell_type": "markdown",
   "metadata": {},
   "source": [
    "# Market Monitor"
   ]
  },
  {
   "cell_type": "code",
   "execution_count": null,
   "metadata": {},
   "outputs": [],
   "source": [
    "import pandas as pd\n",
    "import toolkit as ftk"
   ]
  },
  {
   "cell_type": "code",
   "execution_count": null,
   "metadata": {},
   "outputs": [],
   "source": [
    "mag7 = ftk.get_yahoo_bulk(['AAPL', 'TSLA', 'NVDA', 'MSFT', 'AMZN', 'GOOG', 'META', 'MAGS'])\\\n",
    "        .groupby(pd.Grouper(freq='ME')).last()"
   ]
  },
  {
   "cell_type": "code",
   "execution_count": null,
   "metadata": {},
   "outputs": [],
   "source": [
    "sp = ftk.get_spglobal_bulk([477376, 5457756, 5458593, 92333195, 92333201, 92333210, 300015])\\\n",
    "        .groupby(pd.Grouper(freq='ME')).last().pct_change()"
   ]
  },
  {
   "cell_type": "code",
   "execution_count": null,
   "metadata": {},
   "outputs": [],
   "source": [
    "macro = ftk.get_yahoo_bulk(['CAD=X', 'JPY=X', 'CL=F', 'GC=F', 'HG=F', 'ZC=F', '^VIX', '^TNX', 'BTC-USD', 'ETH-USD', 'GLD'])\\\n",
    "        .groupby(pd.Grouper(freq='ME')).last()"
   ]
  },
  {
   "cell_type": "code",
   "execution_count": null,
   "metadata": {},
   "outputs": [],
   "source": [
    "yield_us = ftk.get_us_yield_curve(n=3)\\\n",
    "        .groupby(pd.Grouper(freq='ME')).last()"
   ]
  },
  {
   "cell_type": "code",
   "execution_count": null,
   "metadata": {},
   "outputs": [],
   "source": [
    "yield_ca = ftk.get_boc_bulk(['V80691342', 'V80691344', 'V80691345', 'V80691346', 'BD.CDN.2YR.DQ.YLD', 'BD.CDN.3YR.DQ.YLD', 'BD.CDN.5YR.DQ.YLD', 'BD.CDN.7YR.DQ.YLD', 'BD.CDN.10YR.DQ.YLD', 'BD.CDN.LONG.DQ.YLD'])\\\n",
    "            .groupby(pd.Grouper(freq='ME')).last()"
   ]
  },
  {
   "cell_type": "code",
   "execution_count": null,
   "metadata": {},
   "outputs": [],
   "source": [
    "econ_ca = ftk.get_statcan_bulk([2062815, 41690973])            "
   ]
  },
  {
   "cell_type": "code",
   "execution_count": null,
   "metadata": {},
   "outputs": [],
   "source": [
    "econ_us = ftk.get_fred_bulk(['SOFR', 'T10YIE', 'VIXCLS'])"
   ]
  },
  {
   "cell_type": "code",
   "execution_count": null,
   "metadata": {},
   "outputs": [],
   "source": [
    "wi = ftk.get_bulk_withintelligence([11469, 11475, 11470, 11471, 11420, 11473, 11474, 11454, 11486])"
   ]
  },
  {
   "cell_type": "code",
   "execution_count": null,
   "metadata": {},
   "outputs": [],
   "source": [
    "with pd.ExcelWriter('_market.xlsx') as writer:\n",
    "    mag7.to_excel(writer, sheet_name='Magnificent 7')\n",
    "    sp.to_excel(writer, sheet_name='S&P')\n",
    "    yield_us.to_excel(writer, sheet_name='US Yield Curve')\n",
    "    yield_ca.to_excel(writer, sheet_name='CA Yield Curve')\n",
    "    econ_us.to_excel(writer, sheet_name='US Econ')\n",
    "    econ_ca.to_excel(writer, sheet_name='CA Econ')    \n",
    "    macro.to_excel(writer, sheet_name='Macro')\n",
    "    wi.to_excel(writer, sheet_name='With Intelligence')"
   ]
  }
 ],
 "metadata": {
  "kernelspec": {
   "display_name": ".venv",
   "language": "python",
   "name": "python3"
  },
  "language_info": {
   "codemirror_mode": {
    "name": "ipython",
    "version": 3
   },
   "file_extension": ".py",
   "mimetype": "text/x-python",
   "name": "python",
   "nbconvert_exporter": "python",
   "pygments_lexer": "ipython3",
   "version": "3.11.5"
  }
 },
 "nbformat": 4,
 "nbformat_minor": 2
}
