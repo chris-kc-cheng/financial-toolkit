{
 "cells": [
  {
   "cell_type": "code",
   "execution_count": null,
   "metadata": {},
   "outputs": [],
   "source": [
    "%load_ext autoreload\n",
    "%autoreload 2\n",
    "import toolkit as ftk"
   ]
  },
  {
   "cell_type": "code",
   "execution_count": 46,
   "metadata": {},
   "outputs": [
    {
     "data": {
      "text/plain": [
       "PeriodIndex(['2018-01-01/2018-01-07', '2018-01-08/2018-01-14',\n",
       "             '2018-01-15/2018-01-21', '2018-01-22/2018-01-28',\n",
       "             '2018-01-29/2018-02-04'],\n",
       "            dtype='period[W-SUN]')"
      ]
     },
     "execution_count": 46,
     "metadata": {},
     "output_type": "execute_result"
    }
   ],
   "source": [
    "import pandas as pd\n",
    "#.freqstr Q-DEC, M, Y-DEC, W-SUN, D (no B)\n",
    "a = pd.period_range(\"2018-01-01\", periods=5, freq=\"W\")\n",
    "a"
   ]
  },
  {
   "cell_type": "code",
   "execution_count": 48,
   "metadata": {},
   "outputs": [
    {
     "data": {
      "text/plain": [
       "['/workspaces/financial-toolkit',\n",
       " '/workspaces/financial-toolkit/notebooks',\n",
       " '/home/codespace/.python/current/lib/python310.zip',\n",
       " '/home/codespace/.python/current/lib/python3.10',\n",
       " '/home/codespace/.python/current/lib/python3.10/lib-dynload',\n",
       " '',\n",
       " '/home/codespace/.local/lib/python3.10/site-packages',\n",
       " '/home/codespace/.python/current/lib/python3.10/site-packages']"
      ]
     },
     "execution_count": 48,
     "metadata": {},
     "output_type": "execute_result"
    }
   ],
   "source": [
    "import sys\n",
    "sys.path"
   ]
  }
 ],
 "metadata": {
  "kernelspec": {
   "display_name": "Python 3",
   "language": "python",
   "name": "python3"
  },
  "language_info": {
   "codemirror_mode": {
    "name": "ipython",
    "version": 3
   },
   "file_extension": ".py",
   "mimetype": "text/x-python",
   "name": "python",
   "nbconvert_exporter": "python",
   "pygments_lexer": "ipython3",
   "version": "3.10.8"
  }
 },
 "nbformat": 4,
 "nbformat_minor": 2
}
