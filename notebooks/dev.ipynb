{
 "cells": [
  {
   "cell_type": "code",
   "execution_count": 1,
   "metadata": {},
   "outputs": [
    {
     "name": "stdout",
     "output_type": "stream",
     "text": [
      "c:\\Users\\Admin\\OneDrive\\Python\n"
     ]
    }
   ],
   "source": [
    "%load_ext autoreload\n",
    "%autoreload 2\n",
    "%cd .."
   ]
  },
  {
   "cell_type": "code",
   "execution_count": 4,
   "metadata": {},
   "outputs": [
    {
     "name": "stderr",
     "output_type": "stream",
     "text": [
      "c:\\Users\\Admin\\OneDrive\\Python\\financial-toolkit\\toolkit\\functional.py:22: FutureWarning: PeriodDtype[B] is deprecated and will be removed in a future version. Use a DatetimeIndex with freq='B' instead\n",
      "  s.index = p.index.to_period()\n",
      "c:\\Users\\Admin\\OneDrive\\Python\\financial-toolkit\\toolkit\\functional.py:30: FutureWarning: Period with BDay freq is deprecated and will be removed in a future version. Use a DatetimeIndex with BDay freq instead.\n",
      "  s.index = pd.date_range(end=r.index[-1].to_timestamp(how='e').date(), periods=len(r.index) + 1, freq=r.index.freq)\n",
      "c:\\Users\\Admin\\OneDrive\\Python\\financial-toolkit\\toolkit\\functional.py:30: FutureWarning: Period with BDay freq is deprecated and will be removed in a future version. Use a DatetimeIndex with BDay freq instead.\n",
      "  s.index = pd.date_range(end=r.index[-1].to_timestamp(how='e').date(), periods=len(r.index) + 1, freq=r.index.freq)\n",
      "c:\\Users\\Admin\\OneDrive\\Python\\financial-toolkit\\toolkit\\functional.py:156: RuntimeWarning: divide by zero encountered in scalar divide\n",
      "  return (compound_return(s, True) - rfr) / -worst_drawdown(s)\n",
      "c:\\Users\\Admin\\OneDrive\\Python\\financial-toolkit\\toolkit\\functional.py:30: FutureWarning: Period with BDay freq is deprecated and will be removed in a future version. Use a DatetimeIndex with BDay freq instead.\n",
      "  s.index = pd.date_range(end=r.index[-1].to_timestamp(how='e').date(), periods=len(r.index) + 1, freq=r.index.freq)\n",
      "c:\\Users\\Admin\\OneDrive\\Python\\financial-toolkit\\toolkit\\functional.py:30: FutureWarning: Period with BDay freq is deprecated and will be removed in a future version. Use a DatetimeIndex with BDay freq instead.\n",
      "  s.index = pd.date_range(end=r.index[-1].to_timestamp(how='e').date(), periods=len(r.index) + 1, freq=r.index.freq)\n",
      "c:\\Users\\Admin\\OneDrive\\Python\\financial-toolkit\\toolkit\\functional.py:30: FutureWarning: Period with BDay freq is deprecated and will be removed in a future version. Use a DatetimeIndex with BDay freq instead.\n",
      "  s.index = pd.date_range(end=r.index[-1].to_timestamp(how='e').date(), periods=len(r.index) + 1, freq=r.index.freq)\n",
      "c:\\Users\\Admin\\OneDrive\\Python\\financial-toolkit\\toolkit\\functional.py:30: FutureWarning: Period with BDay freq is deprecated and will be removed in a future version. Use a DatetimeIndex with BDay freq instead.\n",
      "  s.index = pd.date_range(end=r.index[-1].to_timestamp(how='e').date(), periods=len(r.index) + 1, freq=r.index.freq)\n",
      "c:\\Users\\Admin\\OneDrive\\Python\\financial-toolkit\\toolkit\\functional.py:169: RuntimeWarning: divide by zero encountered in scalar divide\n",
      "  return (compound_return(s, True) - rfr) / -drawdown_deviation(s, d)\n",
      "c:\\Users\\Admin\\OneDrive\\Python\\financial-toolkit\\toolkit\\functional.py:30: FutureWarning: Period with BDay freq is deprecated and will be removed in a future version. Use a DatetimeIndex with BDay freq instead.\n",
      "  s.index = pd.date_range(end=r.index[-1].to_timestamp(how='e').date(), periods=len(r.index) + 1, freq=r.index.freq)\n",
      "c:\\Users\\Admin\\OneDrive\\Python\\financial-toolkit\\toolkit\\functional.py:30: FutureWarning: Period with BDay freq is deprecated and will be removed in a future version. Use a DatetimeIndex with BDay freq instead.\n",
      "  s.index = pd.date_range(end=r.index[-1].to_timestamp(how='e').date(), periods=len(r.index) + 1, freq=r.index.freq)\n",
      "c:\\Users\\Admin\\OneDrive\\Python\\financial-toolkit\\toolkit\\functional.py:172: RuntimeWarning: divide by zero encountered in scalar divide\n",
      "  return (compound_return(s, True) - rfr) / -avg_annual_drawdown(s)\n",
      "c:\\Users\\Admin\\OneDrive\\Python\\financial-toolkit\\toolkit\\functional.py:30: FutureWarning: Period with BDay freq is deprecated and will be removed in a future version. Use a DatetimeIndex with BDay freq instead.\n",
      "  s.index = pd.date_range(end=r.index[-1].to_timestamp(how='e').date(), periods=len(r.index) + 1, freq=r.index.freq)\n",
      "c:\\Users\\Admin\\OneDrive\\Python\\financial-toolkit\\toolkit\\functional.py:30: FutureWarning: Period with BDay freq is deprecated and will be removed in a future version. Use a DatetimeIndex with BDay freq instead.\n",
      "  s.index = pd.date_range(end=r.index[-1].to_timestamp(how='e').date(), periods=len(r.index) + 1, freq=r.index.freq)\n",
      "c:\\Users\\Admin\\OneDrive\\Python\\financial-toolkit\\toolkit\\functional.py:192: RuntimeWarning: divide by zero encountered in scalar divide\n",
      "  return (compound_return(s, True) - rfr) / pain_index(s)\n",
      "c:\\Users\\Admin\\OneDrive\\Python\\financial-toolkit\\toolkit\\functional.py:30: FutureWarning: Period with BDay freq is deprecated and will be removed in a future version. Use a DatetimeIndex with BDay freq instead.\n",
      "  s.index = pd.date_range(end=r.index[-1].to_timestamp(how='e').date(), periods=len(r.index) + 1, freq=r.index.freq)\n",
      "c:\\Users\\Admin\\OneDrive\\Python\\financial-toolkit\\toolkit\\functional.py:30: FutureWarning: Period with BDay freq is deprecated and will be removed in a future version. Use a DatetimeIndex with BDay freq instead.\n",
      "  s.index = pd.date_range(end=r.index[-1].to_timestamp(how='e').date(), periods=len(r.index) + 1, freq=r.index.freq)\n",
      "c:\\Users\\Admin\\OneDrive\\Python\\financial-toolkit\\toolkit\\functional.py:189: RuntimeWarning: divide by zero encountered in scalar divide\n",
      "  return (compound_return(s, True) - rfr) / ulcer_index(s)\n",
      "c:\\Users\\Admin\\OneDrive\\Python\\financial-toolkit\\toolkit\\functional.py:217: RuntimeWarning: divide by zero encountered in scalar divide\n",
      "  return upside_potential(s, mar) / downside_potential(s, mar)\n",
      "c:\\Users\\Admin\\OneDrive\\Python\\financial-toolkit\\toolkit\\functional.py:224: RuntimeWarning: divide by zero encountered in scalar divide\n",
      "  return upside_potential(s, mar) / downside_risk(s, mar, annualize=True)\n",
      "c:\\Users\\Admin\\OneDrive\\Python\\financial-toolkit\\toolkit\\functional.py:227: RuntimeWarning: divide by zero encountered in scalar divide\n",
      "  return upside_risk(s, mar) / downside_risk(s, mar)\n",
      "c:\\Users\\Admin\\OneDrive\\Python\\financial-toolkit\\toolkit\\functional.py:221: RuntimeWarning: divide by zero encountered in scalar divide\n",
      "  return (compound_return(s, annualize=True) - ann_mar ) / downside_risk(s, mar, annualize=True)\n"
     ]
    },
    {
     "data": {
      "text/plain": [
       "{'Number of period': 5,\n",
       " 'Frequency': 'B',\n",
       " 'Total Return': 6.999999999999998,\n",
       " 'Periodic mean return': 0.751904761904762,\n",
       " 'Total return': 6.999999999999998,\n",
       " 'Annualized return': 3.278954153569253e+45,\n",
       " 'Mean absolute deviation': 0.8992380952380952,\n",
       " 'Variance': 1.58097052154195,\n",
       " 'Period Volatility': 1.2573665024733043,\n",
       " 'Annualized Volatility': 19.960074434444664,\n",
       " 'Sharpe (0.00%)': 1.6427564758530326e+44,\n",
       " 'Skewness': 2.2303748301577975,\n",
       " 'Excess Kurtosis': 4.979449848557444,\n",
       " 'Worst Drawdown': 0.0,\n",
       " 'Calmar': -inf,\n",
       " 'Average Drawdown': nan,\n",
       " 'Modified Sterling': nan,\n",
       " 'Drawdown Deviation': -0.0,\n",
       " 'Modified Burke': inf,\n",
       " 'Average Annual Drawdown': 0.0,\n",
       " 'Sterling-Calmar': -inf,\n",
       " 'Pain Index': 0.0,\n",
       " 'Pain Ratio': inf,\n",
       " 'Ulcer Index': 0.0,\n",
       " 'Martin Ratio': inf,\n",
       " '': inf}"
      ]
     },
     "execution_count": 4,
     "metadata": {},
     "output_type": "execute_result"
    }
   ],
   "source": [
    "import numpy as np\n",
    "import pandas as pd\n",
    "import scipy\n",
    "import toolkit as ftk\n",
    "import statsmodels.api as sm\n",
    "from sklearn import linear_model\n",
    "\n",
    "unit_price = pd.Series([100,100.3,102.91,104.04,103.1,104.55,107.06,108.66,115.83,114.21,118.67,118.07,127.64,132.74,127.83,120.03,121.71,115.75,113.32,120.34,127.32,119.18,121.2,120.72,120.48,117.95,119.24,124.85,127.84,132.06,131.14,137.3,138.13,139.51,139.23,143.96,145.4],\n",
    "    index=pd.date_range('1999-12', periods=37, freq='M'))\n",
    "benchmark_price = pd.Series([100,100.2,102.71,104.55,103.4,104.85,107.26,108.76,115.83,114.1,118.89,118.53,128.37,133.38,128.31,120.35,122.16,116.29,113.97,120.81,127.57,119.03,121.29,120.92,120.8,117.66,118.48,123.58,127.16,132,131.73,138.45,140.39,142.21,142.64,147.49,150.59],\n",
    "    index=pd.date_range('1999-12', periods=37, freq='M'))\n",
    "risk_free_return = pd.Series([0.001,0.001,0.002,0.002,0.002,0.002,0.002,0.003,0.003,0.004,0.004,0.003,0.003,0.003,0.003,0.004,0.002,0.002,0.002,0.001,0.001,0.001,0.001,0.001,0.001,0.001,0.001,0.001,0.001,0.002,0.002,0.002,0.002,0.002,0.002,0.002],\n",
    "    index=pd.period_range('2000-01', periods=36, freq='M'))\n",
    "\n",
    "aa = ftk.price_to_return(unit_price)\n",
    "bb = ftk.price_to_return(benchmark_price)\n",
    "\n",
    "prices = pd.concat([unit_price, benchmark_price], axis=1)\n",
    "benchmarks = prices = pd.concat([benchmark_price, unit_price], axis=1)\n",
    "\n",
    "x = pd.Series(np.arange(1, 11), index= pd.date_range('2023-10-27', periods=10, freq='D'))\n",
    "x = x[x.index.day_of_week < 5]\n",
    "\n",
    "ftk.summary(x)"
   ]
  },
  {
   "cell_type": "code",
   "execution_count": 1,
   "metadata": {},
   "outputs": [
    {
     "name": "stderr",
     "output_type": "stream",
     "text": [
      "c:\\Users\\Admin\\OneDrive\\Python\\financial-toolkit\\toolkit\\functional.py:21: FutureWarning: The default fill_method='pad' in Series.pct_change is deprecated and will be removed in a future version. Either fill in any non-leading NA values prior to calling pct_change or specify 'fill_method=None' to not fill NA values.\n",
      "  s = p.pct_change()\n",
      "c:\\Users\\Admin\\OneDrive\\Python\\financial-toolkit\\toolkit\\functional.py:22: UserWarning: Converting to PeriodArray/Index representation will drop timezone information.\n",
      "  s.index = p.index.to_period()\n",
      "c:\\Users\\Admin\\OneDrive\\Python\\financial-toolkit\\toolkit\\functional.py:22: FutureWarning: PeriodDtype[B] is deprecated and will be removed in a future version. Use a DatetimeIndex with freq='B' instead\n",
      "  s.index = p.index.to_period()\n"
     ]
    },
    {
     "name": "stdout",
     "output_type": "stream",
     "text": [
      "HERE B\n"
     ]
    },
    {
     "name": "stderr",
     "output_type": "stream",
     "text": [
      "c:\\Users\\Admin\\OneDrive\\Python\\financial-toolkit\\toolkit\\data.py:17: FutureWarning: The argument 'date_parser' is deprecated and will be removed in a future version. Please use 'date_format' instead, or read your data in as 'object' dtype and then call 'to_datetime'.\n",
      "  factors = pdr.get_data_famafrench(dataset, start='1990-01-01')[0].asfreq(freq) / 100\n",
      "c:\\Users\\Admin\\OneDrive\\Python\\financial-toolkit\\toolkit\\data.py:17: FutureWarning: PeriodDtype[B] is deprecated and will be removed in a future version. Use a DatetimeIndex with freq='B' instead\n",
      "  factors = pdr.get_data_famafrench(dataset, start='1990-01-01')[0].asfreq(freq) / 100\n",
      "c:\\Users\\Admin\\OneDrive\\Python\\financial-toolkit\\toolkit\\data.py:17: FutureWarning: Period with BDay freq is deprecated and will be removed in a future version. Use a DatetimeIndex with BDay freq instead.\n",
      "  factors = pdr.get_data_famafrench(dataset, start='1990-01-01')[0].asfreq(freq) / 100\n",
      "c:\\Users\\Admin\\OneDrive\\Python\\financial-toolkit\\toolkit\\data.py:20: FutureWarning: The argument 'date_parser' is deprecated and will be removed in a future version. Please use 'date_format' instead, or read your data in as 'object' dtype and then call 'to_datetime'.\n",
      "  factors = factors.join(pdr.get_data_famafrench(re.sub(r'[35]_Factors', 'Mom_Factor', dataset), start='1990-01-01')[0].asfreq(freq) / 100, how='inner')\n",
      "c:\\Users\\Admin\\OneDrive\\Python\\financial-toolkit\\toolkit\\data.py:20: FutureWarning: PeriodDtype[B] is deprecated and will be removed in a future version. Use a DatetimeIndex with freq='B' instead\n",
      "  factors = factors.join(pdr.get_data_famafrench(re.sub(r'[35]_Factors', 'Mom_Factor', dataset), start='1990-01-01')[0].asfreq(freq) / 100, how='inner')\n",
      "c:\\Users\\Admin\\OneDrive\\Python\\financial-toolkit\\toolkit\\data.py:20: FutureWarning: Period with BDay freq is deprecated and will be removed in a future version. Use a DatetimeIndex with BDay freq instead.\n",
      "  factors = factors.join(pdr.get_data_famafrench(re.sub(r'[35]_Factors', 'Mom_Factor', dataset), start='1990-01-01')[0].asfreq(freq) / 100, how='inner')\n"
     ]
    },
    {
     "data": {
      "text/plain": [
       "Mkt-RF         1.378156\n",
       "SMB           -0.573692\n",
       "HML            0.463883\n",
       "RF            -0.182439\n",
       "WML           -0.129931\n",
       "Unexplained    0.403163\n",
       "dtype: float64"
      ]
     },
     "execution_count": 1,
     "metadata": {},
     "output_type": "execute_result"
    }
   ],
   "source": [
    "import pandas as pd\n",
    "import toolkit as ftk\n",
    "\n",
    "portfolio = ftk.price_to_return(ftk.get_yahoo('ARKK'))\n",
    "factors = ftk.get_famafrench_factors('North_America_3_Factors_Daily', True)\n",
    "\n",
    "if ftk.periodicity(portfolio) > ftk.periodicity(factors):\n",
    "    portfolio = portfolio.resample(factors.index.freqstr).aggregate(ftk.compound_return)\n",
    "\n",
    "merged = pd.merge(portfolio, factors, left_index=True, right_index=True)\n",
    "portfolio = merged.iloc[:, 0]\n",
    "factors = merged.iloc[:, 1:]\n",
    "betas = ftk.beta(portfolio, factors) #.sort_values() doesn't matter\n",
    "\n",
    "attribution = betas * factors\n",
    "explained = attribution.sum(axis=1)\n",
    "attribution['Unexplained'] = portfolio - explained\n",
    "\n",
    "combined = pd.concat([portfolio, explained], axis=1)\n",
    "combined.columns = ['Portfolio', 'Explained by Betas']\n",
    "\n",
    "k = (attribution.T * ftk.carino(portfolio, 0)).T / ftk.carino(ftk.compound_return(portfolio), 0)\n",
    "k.sum()"
   ]
  },
  {
   "cell_type": "code",
   "execution_count": 34,
   "metadata": {},
   "outputs": [
    {
     "data": {
      "image/png": "[encoded data removed]",
      "text/plain": [
       "<Figure size 640x480 with 1 Axes>"
      ]
     },
     "metadata": {},
     "output_type": "display_data"
    }
   ],
   "source": [
    "k = (attribution.T * ftk.carino(portfolio, 0)).T / ftk.carino(ftk.compound_return(portfolio), 0)\n",
    "s = k.sum().sort_values(ascending=False)\n",
    "c = s.cumsum()\n",
    "n = s[s < 0].reindex(c.index).fillna(0)\n",
    "b = (c - n).shift(1)\n",
    "\n",
    "import matplotlib.pyplot as plt\n",
    "import numpy as np\n",
    "fig, ax = plt.subplots()\n",
    "ax.bar(s.index, s, bottom=b)\n",
    "plt.show()"
   ]
  },
  {
   "cell_type": "code",
   "execution_count": 35,
   "metadata": {},
   "outputs": [
    {
     "data": {
      "text/plain": [
       "Mkt-RF         1.378156\n",
       "HML            0.463883\n",
       "Unexplained    0.403163\n",
       "WML           -0.129931\n",
       "RF            -0.182439\n",
       "SMB           -0.573692\n",
       "dtype: float64"
      ]
     },
     "execution_count": 35,
     "metadata": {},
     "output_type": "execute_result"
    }
   ],
   "source": [
    "s"
   ]
  }
 ],
 "metadata": {
  "kernelspec": {
   "display_name": "Python 3",
   "language": "python",
   "name": "python3"
  },
  "language_info": {
   "codemirror_mode": {
    "name": "ipython",
    "version": 3
   },
   "file_extension": ".py",
   "mimetype": "text/x-python",
   "name": "python",
   "nbconvert_exporter": "python",
   "pygments_lexer": "ipython3",
   "version": "3.11.3"
  }
 },
 "nbformat": 4,
 "nbformat_minor": 2
}
