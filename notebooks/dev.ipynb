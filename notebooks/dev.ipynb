{
 "cells": [
  {
   "cell_type": "code",
   "execution_count": null,
   "metadata": {},
   "outputs": [],
   "source": [
    "%load_ext autoreload\n",
    "%autoreload 2\n",
    "%cd .."
   ]
  },
  {
   "cell_type": "code",
   "execution_count": null,
   "metadata": {},
   "outputs": [],
   "source": [
    "import numpy as np\n",
    "import pandas as pd\n",
    "import scipy\n",
    "import toolkit as ftk\n",
    "import statsmodels.api as sm\n",
    "from sklearn import linear_model\n",
    "\n",
    "unit_price = pd.Series([100,100.3,102.91,104.04,103.1,104.55,107.06,108.66,115.83,114.21,118.67,118.07,127.64,132.74,127.83,120.03,121.71,115.75,113.32,120.34,127.32,119.18,121.2,120.72,120.48,117.95,119.24,124.85,127.84,132.06,131.14,137.3,138.13,139.51,139.23,143.96,145.4],\n",
    "    index=pd.date_range('1999-12', periods=37, freq='M'))\n",
    "benchmark_price = pd.Series([100,100.2,102.71,104.55,103.4,104.85,107.26,108.76,115.83,114.1,118.89,118.53,128.37,133.38,128.31,120.35,122.16,116.29,113.97,120.81,127.57,119.03,121.29,120.92,120.8,117.66,118.48,123.58,127.16,132,131.73,138.45,140.39,142.21,142.64,147.49,150.59],\n",
    "    index=pd.date_range('1999-12', periods=37, freq='M'))\n",
    "risk_free_return = pd.Series([0.001,0.001,0.002,0.002,0.002,0.002,0.002,0.003,0.003,0.004,0.004,0.003,0.003,0.003,0.003,0.004,0.002,0.002,0.002,0.001,0.001,0.001,0.001,0.001,0.001,0.001,0.001,0.001,0.001,0.002,0.002,0.002,0.002,0.002,0.002,0.002],\n",
    "    index=pd.period_range('2000-01', periods=36, freq='M'))\n",
    "\n",
    "aa = ftk.price_to_return(unit_price)\n",
    "bb = ftk.price_to_return(benchmark_price)\n",
    "\n",
    "prices = pd.concat([unit_price, benchmark_price], axis=1)\n",
    "benchmarks = prices = pd.concat([benchmark_price, unit_price], axis=1)\n",
    "\n",
    "x = pd.Series(np.arange(1, 11), index= pd.date_range('2023-10-27', periods=10, freq='D'))\n",
    "x = x[x.index.day_of_week < 5]\n",
    "\n",
    "ftk.summary(x)"
   ]
  },
  {
   "cell_type": "code",
   "execution_count": 1,
   "metadata": {},
   "outputs": [
    {
     "name": "stdout",
     "output_type": "stream",
     "text": [
      "[*********************100%%**********************]  9 of 9 completed\n"
     ]
    }
   ],
   "source": [
    "# https://www.visualcapitalist.com/historical-returns-by-asset-class/\n",
    "import toolkit as ftk\n",
    "tickers = {'VFIAX': 'US Large Cap', 'VSMAX': 'US Small Cap', 'VTMGX': 'DM Eq', 'VEMAX': 'EM Eq', 'VBTLX': 'US IG', 'VWEAX': 'US HY', 'VTABX': 'DM IG', 'VGSLX': 'REITs', 'IAU': 'Gold'}\n",
    "px = ftk.get_yahoo_bulk(tickers.keys()).rename(columns=tickers)\n",
    "returns = px.resample('M').last().pct_change().dropna().to_period('M')"
   ]
  },
  {
   "cell_type": "code",
   "execution_count": 177,
   "metadata": {},
   "outputs": [
    {
     "name": "stdout",
     "output_type": "stream",
     "text": [
      "Eq 0.04617064345934074 0.09682066433218756 0.47686765813681303 [0.11111111 0.11111111 0.11111111 0.11111111 0.11111111 0.11111111\n",
      " 0.11111111 0.11111111 0.11111111]\n",
      "Max. Sharpe 0.15006784379994337 0.10868525020944544 1.3807562986766857 [ 0.20777951 -0.52739586 -0.07899392  1.7096261  -0.30272308 -0.46855735\n",
      "  0.60047041 -0.78301938  0.64281356]\n",
      "Inv. Vol 0.022834636694604487 0.049366064429871764 0.4625573652330098 [0.04331821 0.34386663 0.02982394 0.02830121 0.02852559 0.0217748\n",
      " 0.39445201 0.02869562 0.08124199]\n",
      "Min. Vol 0.015449296097601416 0.03486816863505781 0.44307735973457735 [-0.0351568   0.26335312  0.00576763 -0.0010358  -0.14193958  0.03594583\n",
      "  0.70539924 -0.03605235  0.20371871]\n",
      "Min. Vol At 0.1000000000023461 0.07345738099035791 1.3613335876414134 [ 0.11738549 -0.23689044 -0.04666476  1.07346661 -0.24300713 -0.28082629\n",
      "  0.64449326 -0.50594749  0.47799076]\n",
      "Min. Vol At 0.06138931551793917 0.11544702418226692 0.5317531218562911 [0.15 0.05 0.05 0.2  0.05 0.2  0.05 0.2  0.05]\n"
     ]
    }
   ],
   "source": [
    "import numpy as np\n",
    "import pandas as pd\n",
    "from scipy import optimize\n",
    "import toolkit as ftk\n",
    "\n",
    "# Constant rebalance\n",
    "def portfolio_volatility(weights: np.ndarray, cov: pd.DataFrame) -> float:\n",
    "    return np.sqrt(weights @ cov @ weights)\n",
    "\n",
    "def portfolio_return(weights: np.ndarray, er: pd.Series) -> float:\n",
    "    # Identical to (er * weights).sum()\n",
    "    return weights @ er\n",
    "\n",
    "def portfolio_returns(weights: np.ndarray, returns: pd.DataFrame) -> pd.Series:\n",
    "    # Identical to (returns * weights).sum(axis=1)\n",
    "    return returns @ weights\n",
    "\n",
    "# Weights\n",
    "def equal_weight(er: pd.Series) -> np.ndarray:\n",
    "    n = len(er)\n",
    "    return np.repeat(1 / n, n)\n",
    "\n",
    "def max_return(er: pd.Series) -> np.ndarray:\n",
    "    wtg = pd.Series(0, index=er.index)\n",
    "    wtg.loc[er.idxmax()] = 1\n",
    "    return wtg\n",
    "\n",
    "def max_sharpe(er: pd.Series, cov: pd.DataFrame, rfr: float = 0., min: float = float('-inf'), max: float = float('inf')) -> np.ndarray:\n",
    "\n",
    "    def neg_sharpe(weights, er, cov, rfr):\n",
    "        return (rfr - portfolio_return(weights, er)) / portfolio_volatility(weights, cov)\n",
    "    \n",
    "    n = len(er)\n",
    "    fully_invest = {'type': 'eq',\n",
    "                    'fun': lambda weights: np.sum(weights) - 1}\n",
    "    wtg = optimize.minimize(neg_sharpe,\n",
    "                            equal_weight(er),\n",
    "                            args=(er, cov, rfr),\n",
    "                            method='SLSQP',\n",
    "                            options={'disp': False},\n",
    "                            constraints=(fully_invest,),\n",
    "                            bounds=((min, max),) * n\n",
    "                            )\n",
    "    return wtg.x\n",
    "\n",
    "def min_vol(er: pd.Series, cov: pd.DataFrame, min: float = float('-inf'), max: float = float('inf')) -> np.ndarray:\n",
    "    # np.ones_like(d) doesn't work\n",
    "    return max_sharpe(np.repeat(1., len(er)), cov, rfr=0, min=min, max=max)\n",
    "\n",
    "def min_vol_at(target: float, er: pd.Series, cov: pd.DataFrame, min: float = float('-inf'), max: float = float('inf')) -> np.ndarray:\n",
    "    n = len(er)\n",
    "    fully_invest = {'type': 'eq',\n",
    "                    'fun': lambda weights: np.sum(weights) - 1}\n",
    "    target_return = {'type': 'eq',\n",
    "                     'fun': lambda weights: portfolio_return(weights, er) - target}\n",
    "    wtg = optimize.minimize(portfolio_volatility,\n",
    "                            equal_weight(er),\n",
    "                            args=(cov),\n",
    "                            method='SLSQP',\n",
    "                            options={'disp': False},\n",
    "                            constraints=(target_return, fully_invest,),\n",
    "                            bounds=((min, max),) * n\n",
    "                            )\n",
    "    return wtg.x\n",
    "\n",
    "def inverse_vol(d: pd.DataFrame) -> np.ndarray:\n",
    "    inverse = 1 / ftk.volatility(d)\n",
    "    return (inverse / inverse.sum()).to_numpy()\n",
    "\n",
    "def risk_parity(d: pd.DataFrame) -> np.ndarray:\n",
    "    pass\n",
    "\n",
    "cov = ftk.covariance(returns, annualize=True)\n",
    "er = ftk.compound_return(returns, annualize=True)\n",
    "max_sharpe(er, cov)\n",
    "\n",
    "def debug(name, w):\n",
    "    print(name, portfolio_return(w, er), portfolio_volatility(w, cov), portfolio_return(w, er)/portfolio_volatility(w, cov), w)\n",
    "\n",
    "debug('Eq', equal_weight(er))\n",
    "debug('Max. Sharpe', max_sharpe(er, cov))\n",
    "debug('Inv. Vol', inverse_vol(cov))\n",
    "debug('Min. Vol', min_vol(er, cov))\n",
    "debug('Min. Vol At', min_vol_at(0.1, er, cov))\n",
    "debug('Min. Vol At', min_vol_at(0.1, er, cov, 0.05, 0.2))"
   ]
  },
  {
   "cell_type": "code",
   "execution_count": 272,
   "metadata": {},
   "outputs": [],
   "source": [
    "w0 = min_vol(er, cov)\n",
    "w1 = max_return(er)\n",
    "y = np.linspace(portfolio_return(w0, er), portfolio_return(w1, er), 30)\n",
    "ef = [min_vol_at(yy, er, cov) for yy in y]\n",
    "ns = [min_vol_at(yy, er, cov, 0) for yy in y]\n",
    "nl = [min_vol_at(yy, er, cov, 0, 1) for yy in y]\n",
    "x_ef = [portfolio_volatility(w, cov) for w in ef]\n",
    "x_ns = [portfolio_volatility(w, cov) for w in ns]\n",
    "x_nl = [portfolio_volatility(w, cov) for w in nl]\n"
   ]
  },
  {
   "cell_type": "code",
   "execution_count": 273,
   "metadata": {},
   "outputs": [],
   "source": [
    "source = pd.DataFrame({\n",
    "    'ef': x_ef,\n",
    "    'ns': x_ns,\n",
    "    'nl': x_nl,\n",
    "    'y': list(y)\n",
    "})"
   ]
  },
  {
   "cell_type": "code",
   "execution_count": 274,
   "metadata": {},
   "outputs": [
    {
     "name": "stderr",
     "output_type": "stream",
     "text": [
      "c:\\Users\\Admin\\OneDrive\\Python\\financial-toolkit\\.venv\\Lib\\site-packages\\altair\\utils\\core.py:384: FutureWarning: the convert_dtype parameter is deprecated and will be removed in a future version.  Do ``ser.astype(object).apply()`` instead if you want ``convert_dtype=False``.\n",
      "  col = df[col_name].apply(to_list_if_array, convert_dtype=False)\n"
     ]
    },
    {
     "data": {
      "text/html": [
       "\n",
       "<div id=\"altair-viz-b6a688bba48f43f29b1dfc21a0eb804f\"></div>\n",
       "<script type=\"text/javascript\">\n",
       "  var VEGA_DEBUG = (typeof VEGA_DEBUG == \"undefined\") ? {} : VEGA_DEBUG;\n",
       "  (function(spec, embedOpt){\n",
       "    let outputDiv = document.currentScript.previousElementSibling;\n",
       "    if (outputDiv.id !== \"altair-viz-b6a688bba48f43f29b1dfc21a0eb804f\") {\n",
       "      outputDiv = document.getElementById(\"altair-viz-b6a688bba48f43f29b1dfc21a0eb804f\");\n",
       "    }\n",
       "    const paths = {\n",
       "      \"vega\": \"https://cdn.jsdelivr.net/npm//vega@5?noext\",\n",
       "      \"vega-lib\": \"https://cdn.jsdelivr.net/npm//vega-lib?noext\",\n",
       "      \"vega-lite\": \"https://cdn.jsdelivr.net/npm//vega-lite@4.17.0?noext\",\n",
       "      \"vega-embed\": \"https://cdn.jsdelivr.net/npm//vega-embed@6?noext\",\n",
       "    };\n",
       "\n",
       "    function maybeLoadScript(lib, version) {\n",
       "      var key = `${lib.replace(\"-\", \"\")}_version`;\n",
       "      return (VEGA_DEBUG[key] == version) ?\n",
       "        Promise.resolve(paths[lib]) :\n",
       "        new Promise(function(resolve, reject) {\n",
       "          var s = document.createElement('script');\n",
       "          document.getElementsByTagName(\"head\")[0].appendChild(s);\n",
       "          s.async = true;\n",
       "          s.onload = () => {\n",
       "            VEGA_DEBUG[key] = version;\n",
       "            return resolve(paths[lib]);\n",
       "          };\n",
       "          s.onerror = () => reject(`Error loading script: ${paths[lib]}`);\n",
       "          s.src = paths[lib];\n",
       "        });\n",
       "    }\n",
       "\n",
       "    function showError(err) {\n",
       "      outputDiv.innerHTML = `<div class=\"error\" style=\"color:red;\">${err}</div>`;\n",
       "      throw err;\n",
       "    }\n",
       "\n",
       "    function displayChart(vegaEmbed) {\n",
       "      vegaEmbed(outputDiv, spec, embedOpt)\n",
       "        .catch(err => showError(`Javascript Error: ${err.message}<br>This usually means there's a typo in your chart specification. See the javascript console for the full traceback.`));\n",
       "    }\n",
       "\n",
       "    if(typeof define === \"function\" && define.amd) {\n",
       "      requirejs.config({paths});\n",
       "      require([\"vega-embed\"], displayChart, err => showError(`Error loading script: ${err.message}`));\n",
       "    } else {\n",
       "      maybeLoadScript(\"vega\", \"5\")\n",
       "        .then(() => maybeLoadScript(\"vega-lite\", \"4.17.0\"))\n",
       "        .then(() => maybeLoadScript(\"vega-embed\", \"6\"))\n",
       "        .catch(showError)\n",
       "        .then(() => displayChart(vegaEmbed));\n",
       "    }\n",
       "  })({\"config\": {\"view\": {\"continuousWidth\": 400, \"continuousHeight\": 300}}, \"data\": {\"name\": \"data-9ad8b0cc5cf5aa922f2628daa0dbb163\"}, \"mark\": {\"type\": \"line\", \"color\": \"black\"}, \"encoding\": {\"color\": {\"field\": \"method\", \"type\": \"nominal\"}, \"x\": {\"field\": \"x\", \"type\": \"quantitative\"}, \"y\": {\"field\": \"y\", \"type\": \"quantitative\"}}, \"$schema\": \"https://vega.github.io/schema/vega-lite/v4.17.0.json\", \"datasets\": {\"data-9ad8b0cc5cf5aa922f2628daa0dbb163\": [{\"y\": 0.015449296097601416, \"method\": \"ef\", \"x\": 0.034869019446343456}, {\"y\": 0.01892643265561316, \"method\": \"ef\", \"x\": 0.03496967791580365}, {\"y\": 0.022403569213624908, \"method\": \"ef\", \"x\": 0.035271487085287996}, {\"y\": 0.025880705771636654, \"method\": \"ef\", \"x\": 0.03576916996650336}, {\"y\": 0.0293578423296484, \"method\": \"ef\", \"x\": 0.03646399766612899}, {\"y\": 0.03283497888766015, \"method\": \"ef\", \"x\": 0.037319639760936246}, {\"y\": 0.03631211544567189, \"method\": \"ef\", \"x\": 0.03834458363998053}, {\"y\": 0.039789252003683634, \"method\": \"ef\", \"x\": 0.0395272467955989}, {\"y\": 0.04326638856169538, \"method\": \"ef\", \"x\": 0.04085289922404221}, {\"y\": 0.04674352511970713, \"method\": \"ef\", \"x\": 0.04229035594566121}, {\"y\": 0.050220661677718874, \"method\": \"ef\", \"x\": 0.04384964924485665}, {\"y\": 0.05369779823573062, \"method\": \"ef\", \"x\": 0.04551105021441089}, {\"y\": 0.05717493479374236, \"method\": \"ef\", \"x\": 0.04726376569396299}, {\"y\": 0.06065207135175411, \"method\": \"ef\", \"x\": 0.04909770306982586}, {\"y\": 0.06412920790976585, \"method\": \"ef\", \"x\": 0.051004575433051626}, {\"y\": 0.06760634446777761, \"method\": \"ef\", \"x\": 0.05297639093568328}, {\"y\": 0.07108348102578935, \"method\": \"ef\", \"x\": 0.05500627150643524}, {\"y\": 0.0745606175838011, \"method\": \"ef\", \"x\": 0.05708725460582132}, {\"y\": 0.07803775414181284, \"method\": \"ef\", \"x\": 0.05921485640753802}, {\"y\": 0.08151489069982458, \"method\": \"ef\", \"x\": 0.06138395294954813}, {\"y\": 0.08499202725783633, \"method\": \"ef\", \"x\": 0.06359039934079186}, {\"y\": 0.08846916381584807, \"method\": \"ef\", \"x\": 0.06582978348689175}, {\"y\": 0.09194630037385983, \"method\": \"ef\", \"x\": 0.0680998931504309}, {\"y\": 0.09542343693187157, \"method\": \"ef\", \"x\": 0.07039670189606359}, {\"y\": 0.0989005734898833, \"method\": \"ef\", \"x\": 0.07271851986959157}, {\"y\": 0.10237771004789506, \"method\": \"ef\", \"x\": 0.07506257400655478}, {\"y\": 0.1058548466059068, \"method\": \"ef\", \"x\": 0.07742712973777251}, {\"y\": 0.10933198316391855, \"method\": \"ef\", \"x\": 0.07981008369167018}, {\"y\": 0.11280911972193029, \"method\": \"ef\", \"x\": 0.08221015826238273}, {\"y\": 0.11628625627994205, \"method\": \"ef\", \"x\": 0.08462546866164482}, {\"y\": 0.015449296097601416, \"method\": \"ns\", \"x\": 0.03952472245013056}, {\"y\": 0.01892643265561316, \"method\": \"ns\", \"x\": 0.03965671055271341}, {\"y\": 0.022403569213624908, \"method\": \"ns\", \"x\": 0.04088922081814747}, {\"y\": 0.025880705771636654, \"method\": \"ns\", \"x\": 0.042551246601562585}, {\"y\": 0.0293578423296484, \"method\": \"ns\", \"x\": 0.04456938538460686}, {\"y\": 0.03283497888766015, \"method\": \"ns\", \"x\": 0.04695470074047207}, {\"y\": 0.03631211544567189, \"method\": \"ns\", \"x\": 0.04966141350286149}, {\"y\": 0.039789252003683634, \"method\": \"ns\", \"x\": 0.052638680102637274}, {\"y\": 0.04326638856169538, \"method\": \"ns\", \"x\": 0.05584442875174721}, {\"y\": 0.04674352511970713, \"method\": \"ns\", \"x\": 0.05924123363215249}, {\"y\": 0.050220661677718874, \"method\": \"ns\", \"x\": 0.06279808659708566}, {\"y\": 0.05369779823573062, \"method\": \"ns\", \"x\": 0.0664893980505717}, {\"y\": 0.05717493479374236, \"method\": \"ns\", \"x\": 0.0702937312273204}, {\"y\": 0.06065207135175411, \"method\": \"ns\", \"x\": 0.07419394651293883}, {\"y\": 0.06412920790976585, \"method\": \"ns\", \"x\": 0.0781760042556194}, {\"y\": 0.06760634446777761, \"method\": \"ns\", \"x\": 0.08222691122330392}, {\"y\": 0.07108348102578935, \"method\": \"ns\", \"x\": 0.08633802866491705}, {\"y\": 0.0745606175838011, \"method\": \"ns\", \"x\": 0.09050081583505944}, {\"y\": 0.07803775414181284, \"method\": \"ns\", \"x\": 0.09470989821055878}, {\"y\": 0.08151489069982458, \"method\": \"ns\", \"x\": 0.09895524194854564}, {\"y\": 0.08499202725783633, \"method\": \"ns\", \"x\": 0.10323632888385809}, {\"y\": 0.08846916381584807, \"method\": \"ns\", \"x\": 0.10754762509468872}, {\"y\": 0.09194630037385983, \"method\": \"ns\", \"x\": 0.11188563863310785}, {\"y\": 0.09542343693187157, \"method\": \"ns\", \"x\": 0.11624737811305834}, {\"y\": 0.0989005734898833, \"method\": \"ns\", \"x\": 0.12063112960724914}, {\"y\": 0.10237771004789506, \"method\": \"ns\", \"x\": 0.12532436228618873}, {\"y\": 0.1058548466059068, \"method\": \"ns\", \"x\": 0.13057089625087318}, {\"y\": 0.10933198316391855, \"method\": \"ns\", \"x\": 0.13630610315520927}, {\"y\": 0.11280911972193029, \"method\": \"ns\", \"x\": 0.14247097984961482}, {\"y\": 0.11628625627994205, \"method\": \"ns\", \"x\": 0.149012207325335}, {\"y\": 0.015449296097601416, \"method\": \"nl\", \"x\": 0.04028084511222729}, {\"y\": 0.01892643265561316, \"method\": \"nl\", \"x\": 0.04116799491511954}, {\"y\": 0.022403569213624908, \"method\": \"nl\", \"x\": 0.042704300995597286}, {\"y\": 0.025880705771636654, \"method\": \"nl\", \"x\": 0.04456670111554525}, {\"y\": 0.0293578423296484, \"method\": \"nl\", \"x\": 0.046711312149938025}, {\"y\": 0.03283497888766015, \"method\": \"nl\", \"x\": 0.049102293540274476}, {\"y\": 0.03631211544567189, \"method\": \"nl\", \"x\": 0.05170527364934047}, {\"y\": 0.039789252003683634, \"method\": \"nl\", \"x\": 0.05448950445038433}, {\"y\": 0.04326638856169538, \"method\": \"nl\", \"x\": 0.05742769460062443}, {\"y\": 0.04674352511970713, \"method\": \"nl\", \"x\": 0.060499560772241855}, {\"y\": 0.050220661677718874, \"method\": \"nl\", \"x\": 0.06368557180739061}, {\"y\": 0.05369779823573062, \"method\": \"nl\", \"x\": 0.06698122894747335}, {\"y\": 0.05717493479374236, \"method\": \"nl\", \"x\": 0.07037212846695622}, {\"y\": 0.06065207135175411, \"method\": \"nl\", \"x\": 0.07419394651640424}, {\"y\": 0.06412920790976585, \"method\": \"nl\", \"x\": 0.07817600425414528}, {\"y\": 0.06760634446777761, \"method\": \"nl\", \"x\": 0.08222691122330615}, {\"y\": 0.07108348102578935, \"method\": \"nl\", \"x\": 0.08633803091802955}, {\"y\": 0.0745606175838011, \"method\": \"nl\", \"x\": 0.09182537802472429}, {\"y\": 0.07803775414181284, \"method\": \"nl\", \"x\": 0.09824274262226605}, {\"y\": 0.08151489069982458, \"method\": \"nl\", \"x\": 0.10569231531043943}, {\"y\": 0.08499202725783633, \"method\": \"nl\", \"x\": 0.11362888012183113}, {\"y\": 0.08846916381584807, \"method\": \"nl\", \"x\": 0.12348966141227648}, {\"y\": 0.09194630037385983, \"method\": \"nl\", \"x\": 0.13681231522182313}, {\"y\": 0.09542343693187157, \"method\": \"nl\", \"x\": 0.15270065604837205}, {\"y\": 0.0989005734898833, \"method\": \"nl\", \"x\": 0.1632830674047674}, {\"y\": 0.10237771004789506, \"method\": \"nl\", \"x\": 0.1632830674047535}, {\"y\": 0.1058548466059068, \"method\": \"nl\", \"x\": 0.16328306740475798}, {\"y\": 0.10933198316391855, \"method\": \"nl\", \"x\": 0.16328306740476534}, {\"y\": 0.11280911972193029, \"method\": \"nl\", \"x\": 0.16328306740476412}, {\"y\": 0.11628625627994205, \"method\": \"nl\", \"x\": 0.18694904824118744}]}}, {\"mode\": \"vega-lite\"});\n",
       "</script>"
      ],
      "text/plain": [
       "alt.Chart(...)"
      ]
     },
     "execution_count": 274,
     "metadata": {},
     "output_type": "execute_result"
    }
   ],
   "source": [
    "source\n",
    "aa = source.melt(id_vars=['y'], value_name='x', var_name='method')\n",
    "\n",
    "import altair as alt\n",
    "alt.Chart(aa).mark_line(color='black').encode(\n",
    "    x='x',\n",
    "    y='y',\n",
    "    color='method',\n",
    ")"
   ]
  }
 ],
 "metadata": {
  "kernelspec": {
   "display_name": "Python 3",
   "language": "python",
   "name": "python3"
  },
  "language_info": {
   "codemirror_mode": {
    "name": "ipython",
    "version": 3
   },
   "file_extension": ".py",
   "mimetype": "text/x-python",
   "name": "python",
   "nbconvert_exporter": "python",
   "pygments_lexer": "ipython3",
   "version": "3.11.3"
  }
 },
 "nbformat": 4,
 "nbformat_minor": 2
}
