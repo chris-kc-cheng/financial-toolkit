{
 "cells": [
  {
   "cell_type": "code",
   "execution_count": 23,
   "metadata": {},
   "outputs": [
    {
     "name": "stdout",
     "output_type": "stream",
     "text": [
      "The autoreload extension is already loaded. To reload it, use:\n",
      "  %reload_ext autoreload\n",
      "/workspaces\n"
     ]
    }
   ],
   "source": [
    "%load_ext autoreload\n",
    "%autoreload 2\n",
    "%cd ..\n",
    "import toolkit as ftk"
   ]
  },
  {
   "cell_type": "code",
   "execution_count": null,
   "metadata": {},
   "outputs": [],
   "source": []
  },
  {
   "cell_type": "code",
   "execution_count": 137,
   "metadata": {},
   "outputs": [
    {
     "data": {
      "text/plain": [
       "-3.901234567901234"
      ]
     },
     "execution_count": 137,
     "metadata": {},
     "output_type": "execute_result"
    }
   ],
   "source": [
    "import numpy as np\n",
    "import pandas as pd\n",
    "import scipy\n",
    "p = pd.Series([1, 1.25, 1, 0.8, 0.88], index=pd.date_range(\"2018-01-01\", periods=5, freq=\"W\"))\n",
    "r = pd.Series([0.25, -0.2, -0.2, 0.1], index=pd.period_range(\"2018-01-08\", periods=4, freq=\"W\"))\n",
    "n = len(r)\n",
    "\n",
    "#r.skew() # 37\n",
    "#scipy.stats.skew(r, bias=False) # 0.37\n",
    "#scipy.stats.skew(r) * np.sqrt(4 * 3) / 2\n",
    "\n",
    "r.kurt() # -3.9\n",
    "scipy.stats.kurtosis(r, bias=False)\n",
    "g = scipy.stats.kurtosis(r) # -1.7\n",
    "\n",
    "\n",
    "(n - 1) / (n - 2) / (n - 3) * ((n + 1) * g + 6)\n",
    "(n - 1) / (n - 2) / (n - 3) * ((n + 1) * scipy.stats.kurtosis(r) + 6)"
   ]
  }
 ],
 "metadata": {
  "kernelspec": {
   "display_name": "Python 3",
   "language": "python",
   "name": "python3"
  },
  "language_info": {
   "codemirror_mode": {
    "name": "ipython",
    "version": 3
   },
   "file_extension": ".py",
   "mimetype": "text/x-python",
   "name": "python",
   "nbconvert_exporter": "python",
   "pygments_lexer": "ipython3",
   "version": "3.10.8"
  }
 },
 "nbformat": 4,
 "nbformat_minor": 2
}
