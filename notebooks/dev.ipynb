{
 "cells": [
  {
   "cell_type": "code",
   "execution_count": 1,
   "metadata": {},
   "outputs": [
    {
     "name": "stdout",
     "output_type": "stream",
     "text": [
      "c:\\Users\\Admin\\OneDrive\\Python\n"
     ]
    }
   ],
   "source": [
    "%load_ext autoreload\n",
    "%autoreload 2\n",
    "%cd .."
   ]
  },
  {
   "cell_type": "code",
   "execution_count": 3,
   "metadata": {},
   "outputs": [
    {
     "ename": "AttributeError",
     "evalue": "'PeriodIndex' object has no attribute 'to_period'",
     "output_type": "error",
     "traceback": [
      "\u001b[1;31m---------------------------------------------------------------------------\u001b[0m",
      "\u001b[1;31mAttributeError\u001b[0m                            Traceback (most recent call last)",
      "\u001b[1;32mc:\\Users\\Admin\\OneDrive\\Python\\financial-toolkit\\notebooks\\dev.ipynb Cell 2\u001b[0m line \u001b[0;36m2\n\u001b[0;32m     <a href='vscode-notebook-cell:/c%3A/Users/Admin/OneDrive/Python/financial-toolkit/notebooks/dev.ipynb#W1sZmlsZQ%3D%3D?line=17'>18</a>\u001b[0m ba \u001b[39m=\u001b[39m pd\u001b[39m.\u001b[39mconcat([bb, aa], axis\u001b[39m=\u001b[39m\u001b[39m1\u001b[39m)\n\u001b[0;32m     <a href='vscode-notebook-cell:/c%3A/Users/Admin/OneDrive/Python/financial-toolkit/notebooks/dev.ipynb#W1sZmlsZQ%3D%3D?line=18'>19</a>\u001b[0m big \u001b[39m=\u001b[39m pd\u001b[39m.\u001b[39mconcat([aa, bb, aa, bb, aa], axis\u001b[39m=\u001b[39m\u001b[39m1\u001b[39m)\n\u001b[1;32m---> <a href='vscode-notebook-cell:/c%3A/Users/Admin/OneDrive/Python/financial-toolkit/notebooks/dev.ipynb#W1sZmlsZQ%3D%3D?line=20'>21</a>\u001b[0m ftk\u001b[39m.\u001b[39;49mbeta(aa, bb, risk_free_return)\n\u001b[0;32m     <a href='vscode-notebook-cell:/c%3A/Users/Admin/OneDrive/Python/financial-toolkit/notebooks/dev.ipynb#W1sZmlsZQ%3D%3D?line=21'>22</a>\u001b[0m ftk\u001b[39m.\u001b[39mbeta(unit_price, bb, risk_free_return)\n\u001b[0;32m     <a href='vscode-notebook-cell:/c%3A/Users/Admin/OneDrive/Python/financial-toolkit/notebooks/dev.ipynb#W1sZmlsZQ%3D%3D?line=22'>23</a>\u001b[0m (bb \u001b[39m-\u001b[39m risk_free_return \u001b[39m-\u001b[39m aa)\u001b[39m.\u001b[39mcount()\n",
      "File \u001b[1;32mc:\\Users\\Admin\\OneDrive\\Python\\financial-toolkit\\toolkit\\functional.py:38\u001b[0m, in \u001b[0;36mrequireReturn.<locals>.wrapper\u001b[1;34m(pre, *args, **kwargs)\u001b[0m\n\u001b[0;32m     36\u001b[0m \u001b[39mif\u001b[39;00m \u001b[39misinstance\u001b[39m(pre\u001b[39m.\u001b[39mindex, pd\u001b[39m.\u001b[39mDatetimeIndex):\n\u001b[0;32m     37\u001b[0m     post \u001b[39m=\u001b[39m price_to_return(pre)\n\u001b[1;32m---> 38\u001b[0m \u001b[39mreturn\u001b[39;00m func(post, \u001b[39m*\u001b[39;49margs, \u001b[39m*\u001b[39;49m\u001b[39m*\u001b[39;49mkwargs)\n",
      "File \u001b[1;32mc:\\Users\\Admin\\OneDrive\\Python\\financial-toolkit\\toolkit\\functional.py:223\u001b[0m, in \u001b[0;36mbeta\u001b[1;34m(s, benchmark, rfr)\u001b[0m\n\u001b[0;32m    221\u001b[0m \u001b[39m@requireReturn\u001b[39m\n\u001b[0;32m    222\u001b[0m \u001b[39mdef\u001b[39;00m \u001b[39mbeta\u001b[39m(s: pd\u001b[39m.\u001b[39mSeries \u001b[39m|\u001b[39m pd\u001b[39m.\u001b[39mDataFrame, benchmark: pd\u001b[39m.\u001b[39mSeries \u001b[39m|\u001b[39m pd\u001b[39m.\u001b[39mDataFrame, rfr: \u001b[39mfloat\u001b[39m \u001b[39m|\u001b[39m pd\u001b[39m.\u001b[39mSeries \u001b[39m=\u001b[39m \u001b[39m0\u001b[39m) \u001b[39m-\u001b[39m\u001b[39m>\u001b[39m \u001b[39mfloat\u001b[39m \u001b[39m|\u001b[39m pd\u001b[39m.\u001b[39mSeries \u001b[39m|\u001b[39m pd\u001b[39m.\u001b[39mDataFrame:\n\u001b[1;32m--> 223\u001b[0m     bm \u001b[39m=\u001b[39m price_to_return(benchmark)\n\u001b[0;32m    224\u001b[0m     \u001b[39m# series & series -> float\u001b[39;00m\n\u001b[0;32m    225\u001b[0m     \u001b[39m# series & benchmark(, m) -> series(m,)\u001b[39;00m\n\u001b[0;32m    226\u001b[0m     \u001b[39m# fund(, n) & series -> dataframe(, n)\u001b[39;00m\n\u001b[0;32m    227\u001b[0m     \u001b[39m# fund(, n) & benchmark(, m) -> dataframe(n, m)\u001b[39;00m\n\u001b[0;32m    228\u001b[0m     \u001b[39mreturn\u001b[39;00m (s \u001b[39m-\u001b[39m rfr)\u001b[39m.\u001b[39maggregate(\u001b[39mlambda\u001b[39;00m y: sm\u001b[39m.\u001b[39mOLS(y, sm\u001b[39m.\u001b[39madd_constant(bm \u001b[39m-\u001b[39m rfr))\u001b[39m.\u001b[39mfit()\u001b[39m.\u001b[39mparams)\u001b[39m.\u001b[39miloc[\u001b[39m1\u001b[39m:]\u001b[39m.\u001b[39msqueeze()\n",
      "File \u001b[1;32mc:\\Users\\Admin\\OneDrive\\Python\\financial-toolkit\\toolkit\\functional.py:21\u001b[0m, in \u001b[0;36mprice_to_return\u001b[1;34m(p)\u001b[0m\n\u001b[0;32m     19\u001b[0m \u001b[39mdef\u001b[39;00m \u001b[39mprice_to_return\u001b[39m(p: pd\u001b[39m.\u001b[39mSeries \u001b[39m|\u001b[39m pd\u001b[39m.\u001b[39mDataFrame)\u001b[39m-\u001b[39m\u001b[39m>\u001b[39m pd\u001b[39m.\u001b[39mSeries \u001b[39m|\u001b[39m pd\u001b[39m.\u001b[39mDataFrame:\n\u001b[0;32m     20\u001b[0m     s \u001b[39m=\u001b[39m p\u001b[39m.\u001b[39mpct_change()\n\u001b[1;32m---> 21\u001b[0m     s\u001b[39m.\u001b[39mindex \u001b[39m=\u001b[39m p\u001b[39m.\u001b[39;49mindex\u001b[39m.\u001b[39;49mto_period()\n\u001b[0;32m     22\u001b[0m     \u001b[39mreturn\u001b[39;00m s\u001b[39m.\u001b[39mdropna()\n",
      "\u001b[1;31mAttributeError\u001b[0m: 'PeriodIndex' object has no attribute 'to_period'"
     ]
    }
   ],
   "source": [
    "import numpy as np\n",
    "import pandas as pd\n",
    "import scipy\n",
    "import toolkit as ftk\n",
    "import statsmodels.api as sm\n",
    "\n",
    "unit_price = pd.Series([100,100.3,102.91,104.04,103.1,104.55,107.06,108.66,115.83,114.21,118.67,118.07,127.64,132.74,127.83,120.03,121.71,115.75,113.32,120.34,127.32,119.18,121.2,120.72,120.48,117.95,119.24,124.85,127.84,132.06,131.14,137.3,138.13,139.51,139.23,143.96,145.4],\n",
    "    index=pd.date_range('1999-12', periods=37, freq='M'))\n",
    "benchmark_price = pd.Series([100,100.2,102.71,104.55,103.4,104.85,107.26,108.76,115.83,114.1,118.89,118.53,128.37,133.38,128.31,120.35,122.16,116.29,113.97,120.81,127.57,119.03,121.29,120.92,120.8,117.66,118.48,123.58,127.16,132,131.73,138.45,140.39,142.21,142.64,147.49,150.59],\n",
    "    index=pd.date_range('1999-12', periods=37, freq='M'))\n",
    "risk_free_return = pd.Series([0.001,0.001,0.002,0.002,0.002,0.002,0.002,0.003,0.003,0.004,0.004,0.003,0.003,0.003,0.003,0.004,0.002,0.002,0.002,0.001,0.001,0.001,0.001,0.001,0.001,0.001,0.001,0.001,0.001,0.002,0.002,0.002,0.002,0.002,0.002,0.002],\n",
    "    index=pd.period_range('2000-01', periods=36, freq='M'))\n",
    "\n",
    "aa = ftk.price_to_return(unit_price)\n",
    "bb = ftk.price_to_return(benchmark_price)\n",
    "\n",
    "ab = pd.concat([aa, bb], axis=1)\n",
    "ba = pd.concat([bb, aa], axis=1)\n",
    "big = pd.concat([aa, bb, aa, bb, aa], axis=1)\n",
    "\n",
    "ftk.beta(aa, bb, risk_free_return)\n",
    "ftk.beta(unit_price, bb, risk_free_return)\n",
    "(bb - risk_free_return - aa).count()\n",
    "\n",
    "ftk.price_to_return(unit_price)\n",
    "ftk.beta(aa, aa)"
   ]
  }
 ],
 "metadata": {
  "kernelspec": {
   "display_name": "Python 3",
   "language": "python",
   "name": "python3"
  },
  "language_info": {
   "codemirror_mode": {
    "name": "ipython",
    "version": 3
   },
   "file_extension": ".py",
   "mimetype": "text/x-python",
   "name": "python",
   "nbconvert_exporter": "python",
   "pygments_lexer": "ipython3",
   "version": "3.11.3"
  }
 },
 "nbformat": 4,
 "nbformat_minor": 2
}
