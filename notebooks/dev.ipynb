{
 "cells": [
  {
   "cell_type": "code",
   "execution_count": null,
   "metadata": {},
   "outputs": [],
   "source": [
    "%load_ext autoreload\n",
    "%autoreload 2\n",
    "%cd .."
   ]
  },
  {
   "cell_type": "code",
   "execution_count": 37,
   "metadata": {},
   "outputs": [
    {
     "name": "stdout",
     "output_type": "stream",
     "text": [
      "47\n",
      "18\n"
     ]
    },
    {
     "data": {
      "text/plain": [
       "21"
      ]
     },
     "execution_count": 37,
     "metadata": {},
     "output_type": "execute_result"
    }
   ],
   "source": [
    "x = ['^N225', \n",
    "'^KS11', \n",
    "'^KQ11', \n",
    "'^AXJO', \n",
    "'^HSI', \n",
    "'^HSCE', \n",
    "'000300.SS', \n",
    "'000001.SS', \n",
    "'399001.SZ', \n",
    "'^TWII', \n",
    "'^NSEI', \n",
    "'^BSESN', \n",
    "'^STI', \n",
    "'USD=X', \n",
    "'CAD=X', \n",
    "'AUD=X', \n",
    "'CNY=X', \n",
    "'HKD=X', \n",
    "'INR=X', \n",
    "'JPY=X', \n",
    "'KRW=X', \n",
    "'SGD=X', \n",
    "'TWD=X', \n",
    "'VND=X', \n",
    "'EUR=X', \n",
    "'GBP=X', \n",
    "'RUB=X', \n",
    "'ILS=X', \n",
    "'BRL=X', \n",
    "'MXN=X', \n",
    "'CLP=X', \n",
    "'^STOXX50E', \n",
    "'^N100', \n",
    "'^FTSE', \n",
    "'^GDAXI', \n",
    "'^FCHI', \n",
    "'^BFX', \n",
    "'^IBEX', \n",
    "'IMOEX.ME', \n",
    "'^TA125.TA', \n",
    "'^GSPTSE', \n",
    "'^GSPC', \n",
    "'^DJI', \n",
    "'^IXIC', \n",
    "'^RUT', \n",
    "'^BVSP', \n",
    "'^MXX']\n",
    "import pandas as pd\n",
    "df = pd.DataFrame(x, index=x).T\n",
    "print(df.shape[1])\n",
    "print(df.filter(regex='=X$', axis=1).apply(lambda a: a).shape[1])\n",
    "#18 + 21 = 39 < 47, i.e. lost 8\n",
    "df.filter(regex='^(?!.*(?=X))$', axis=1).apply(lambda a: a).shape[1]"
   ]
  }
 ],
 "metadata": {
  "kernelspec": {
   "display_name": "Python 3",
   "language": "python",
   "name": "python3"
  },
  "language_info": {
   "codemirror_mode": {
    "name": "ipython",
    "version": 3
   },
   "file_extension": ".py",
   "mimetype": "text/x-python",
   "name": "python",
   "nbconvert_exporter": "python",
   "pygments_lexer": "ipython3",
   "version": "3.11.3"
  }
 },
 "nbformat": 4,
 "nbformat_minor": 2
}
