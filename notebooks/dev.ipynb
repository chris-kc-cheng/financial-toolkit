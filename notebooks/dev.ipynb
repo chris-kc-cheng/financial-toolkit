{
 "cells": [
  {
   "cell_type": "code",
   "execution_count": 23,
   "metadata": {},
   "outputs": [
    {
     "name": "stdout",
     "output_type": "stream",
     "text": [
      "The autoreload extension is already loaded. To reload it, use:\n",
      "  %reload_ext autoreload\n",
      "/workspaces\n"
     ]
    }
   ],
   "source": [
    "%load_ext autoreload\n",
    "%autoreload 2\n",
    "%cd ..\n",
    "import toolkit as ftk"
   ]
  },
  {
   "cell_type": "code",
   "execution_count": 46,
   "metadata": {},
   "outputs": [
    {
     "data": {
      "text/plain": [
       "PeriodIndex(['2018-01-01/2018-01-07', '2018-01-08/2018-01-14',\n",
       "             '2018-01-15/2018-01-21', '2018-01-22/2018-01-28',\n",
       "             '2018-01-29/2018-02-04'],\n",
       "            dtype='period[W-SUN]')"
      ]
     },
     "execution_count": 46,
     "metadata": {},
     "output_type": "execute_result"
    }
   ],
   "source": [
    "import pandas as pd\n",
    "#.freqstr Q-DEC, M, Y-DEC, W-SUN, D (no B)\n",
    "a = pd.period_range(\"2018-01-01\", periods=5, freq=\"W\")"
   ]
  },
  {
   "cell_type": "code",
   "execution_count": 156,
   "metadata": {},
   "outputs": [],
   "source": [
    "import pandas as pd\n",
    "p = pd.Series([1, 1.25, 1, 0.8, 0.88], index=pd.date_range(\"2018-01-01\", periods=5, freq=\"W\"))\n",
    "r = pd.Series([0.25, -0.2, -0.2, 0.1], index=pd.period_range(\"2018-01-08\", periods=4, freq=\"W\"))\n",
    "\n",
    "def p2r(p):\n",
    "    s = p.pct_change()\n",
    "    s.index = p.index.to_period()\n",
    "    return s.dropna()\n",
    "\n",
    "def r2p(r):\n",
    "    s = pd.concat([pd.Series([0]), r])\n",
    "    s.index = pd.date_range(end=r.index[-1].to_timestamp(how='e'), periods=len(r.index) + 1, freq=r.index.freq).date\n",
    "    return (s + 1).cumprod()"
   ]
  }
 ],
 "metadata": {
  "kernelspec": {
   "display_name": "Python 3",
   "language": "python",
   "name": "python3"
  },
  "language_info": {
   "codemirror_mode": {
    "name": "ipython",
    "version": 3
   },
   "file_extension": ".py",
   "mimetype": "text/x-python",
   "name": "python",
   "nbconvert_exporter": "python",
   "pygments_lexer": "ipython3",
   "version": "3.10.8"
  }
 },
 "nbformat": 4,
 "nbformat_minor": 2
}
