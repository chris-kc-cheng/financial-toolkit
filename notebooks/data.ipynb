{
 "cells": [
  {
   "cell_type": "code",
   "execution_count": null,
   "metadata": {},
   "outputs": [],
   "source": [
    "import toolkit as ftk\n",
    "\n",
    "codes = [990100, 129896, 136064, 702787, 703755, 705130, 129857, 729749]\n",
    "acwi = ftk.get_msci(codes, variant='GRTR', ror=True)"
   ]
  },
  {
   "cell_type": "code",
   "execution_count": null,
   "metadata": {},
   "outputs": [],
   "source": [
    "ehi = ftk.get_eurekahedge()"
   ]
  },
  {
   "cell_type": "code",
   "execution_count": null,
   "metadata": {},
   "outputs": [],
   "source": [
    "# Series, name in Series name\n",
    "s1 = ehi.loc[:, '1'].squeeze()\n",
    "\n",
    "# Series, name is tuple\n",
    "s2 = ehi.loc[:, (slice(\n",
    "    None), 'Eurekahedge Asia ex Japan Arbitrage Hedge Fund Index')].squeeze()\n",
    "\n",
    "# DataFrame, column is multiindex with both id and name\n",
    "# Search by Id\n",
    "df1 = ehi.loc[:, ['1', '2']]\n",
    "# Search by Name\n",
    "df2 = ehi.loc[:, (slice(None), ['Eurekahedge Asia ex Japan Arbitrage Hedge Fund Index',\n",
    "                  'Eurekahedge Asia ex Japan CTA/Managed Futures Hedge Fund Index'])]"
   ]
  }
 ],
 "metadata": {
  "kernelspec": {
   "display_name": ".venv",
   "language": "python",
   "name": "python3"
  },
  "language_info": {
   "codemirror_mode": {
    "name": "ipython",
    "version": 3
   },
   "file_extension": ".py",
   "mimetype": "text/x-python",
   "name": "python",
   "nbconvert_exporter": "python",
   "pygments_lexer": "ipython3",
   "version": "3.11.5"
  }
 },
 "nbformat": 4,
 "nbformat_minor": 2
}
