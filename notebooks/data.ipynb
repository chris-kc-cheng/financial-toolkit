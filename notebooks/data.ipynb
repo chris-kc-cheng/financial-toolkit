{
 "cells": [
  {
   "cell_type": "code",
   "execution_count": null,
   "metadata": {},
   "outputs": [],
   "source": [
    "import toolkit as ftk\n",
    "\n",
    "codes = [990100, 129896, 136064, 702787, 703755, 705130, 129857, 729749]\n",
    "acwi = ftk.get_msci(codes, variant='GRTR', ror=True)"
   ]
  },
  {
   "cell_type": "code",
   "execution_count": 2,
   "metadata": {},
   "outputs": [],
   "source": [
    "ehi = ftk.get_eurekahedge()"
   ]
  },
  {
   "cell_type": "code",
   "execution_count": null,
   "metadata": {},
   "outputs": [],
   "source": [
    "# Series, name in Series name\n",
    "s1 = ehi.loc[:, '100'].squeeze()\n",
    "\n",
    "# Series, name is tuple\n",
    "s2 = ehi.loc[:, (slice(\n",
    "    None), 'Eurekahedge Europe Bottom-Up Absolute Return Fund Index')].squeeze()\n",
    "\n",
    "# DataFrame, column is multiindex with both id and name\n",
    "# Search by Id\n",
    "df1 = ehi.loc[:, ['100', 'MEI9']]\n",
    "# Search by Name\n",
    "df2 = ehi.loc[:, (slice(None), ['Eurekahedge Europe Bottom-Up Absolute Return Fund Index',\n",
    "                  'Eurekahedge Emerging Asset Weighted Index - USD'])]"
   ]
  },
  {
   "cell_type": "code",
   "execution_count": null,
   "metadata": {},
   "outputs": [],
   "source": [
    "ftk.get_spglobal_bulk([300015, 477376, 5457756, 5458593, 92333195, 92333201, 92333210])"
   ]
  }
 ],
 "metadata": {
  "kernelspec": {
   "display_name": ".venv",
   "language": "python",
   "name": "python3"
  },
  "language_info": {
   "codemirror_mode": {
    "name": "ipython",
    "version": 3
   },
   "file_extension": ".py",
   "mimetype": "text/x-python",
   "name": "python",
   "nbconvert_exporter": "python",
   "pygments_lexer": "ipython3",
   "version": "3.11.5"
  }
 },
 "nbformat": 4,
 "nbformat_minor": 2
}
